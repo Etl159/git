{
 "cells": [
  {
   "cell_type": "raw",
   "id": "d2b2164a",
   "metadata": {},
   "source": [
    "mysql:\n",
    "workbench/jupyter notebook\n",
    "relational database\n",
    "structured data\n",
    "tables"
   ]
  },
  {
   "cell_type": "raw",
   "id": "0d9bed4a",
   "metadata": {},
   "source": [
    "MongoDB:\n",
    "compass/jupyter notebook\n",
    "non relational database, no sql database\n",
    "unstructured data\n",
    "json > dictionary > key : value"
   ]
  },
  {
   "cell_type": "code",
   "execution_count": null,
   "id": "878e7aef",
   "metadata": {},
   "outputs": [],
   "source": [
    "emp :\n",
    "    empid, empname,salary,loc  contact             add \n",
    "    1001.  rahul.   60000 pune  null\n",
    "    1002.  rohit.   50000 pune 8983720070\n",
    "    1003.  snehal.  40000 pune  no field\n",
    "    1004.  neha.   '30000'pune \n",
    "    1005   vaibhav. 80000 pune. mob no/email       "
   ]
  },
  {
   "cell_type": "code",
   "execution_count": null,
   "id": "8d4a1373",
   "metadata": {},
   "outputs": [],
   "source": [
    "{contact:{'mobno:':value,'email':value}}"
   ]
  },
  {
   "cell_type": "code",
   "execution_count": null,
   "id": "a5db4438",
   "metadata": {},
   "outputs": [],
   "source": [
    "mysql      mongodb\n",
    "database   database\n",
    "table      collection\n",
    "rows       document\n",
    "columns    keys"
   ]
  },
  {
   "cell_type": "markdown",
   "id": "d51b77d1",
   "metadata": {},
   "source": [
    "### import libraries"
   ]
  },
  {
   "cell_type": "code",
   "execution_count": null,
   "id": "ceb044bc",
   "metadata": {},
   "outputs": [],
   "source": [
    "pip install pymongo"
   ]
  },
  {
   "cell_type": "code",
   "execution_count": null,
   "id": "ffa17c7e",
   "metadata": {},
   "outputs": [],
   "source": [
    "import pymongo\n",
    "import pandas as pd"
   ]
  },
  {
   "cell_type": "markdown",
   "id": "7afd177d",
   "metadata": {},
   "source": [
    "### create connection\n",
    "pymongo.MongoClient  = Function to create a conncetion \n",
    "27017 = default code for momgodb \n",
    "mongodb://localhost:27017"
   ]
  },
  {
   "cell_type": "code",
   "execution_count": null,
   "id": "2acba7f7",
   "metadata": {},
   "outputs": [],
   "source": [
    "client=pymongo.MongoClient('mongodb://localhost:27017')\n",
    "client"
   ]
  },
  {
   "cell_type": "markdown",
   "id": "bc88e223",
   "metadata": {},
   "source": [
    "### operations"
   ]
  },
  {
   "cell_type": "code",
   "execution_count": null,
   "id": "d6372358",
   "metadata": {},
   "outputs": [],
   "source": [
    "1. create database\n",
    "2. create collection\n",
    "3. insert document\n",
    "4. read data\n",
    "5. update\n",
    "6. delete"
   ]
  },
  {
   "cell_type": "code",
   "execution_count": null,
   "id": "187af994",
   "metadata": {},
   "outputs": [],
   "source": [
    "databases >> database >> collections >> documents >> key: value"
   ]
  },
  {
   "cell_type": "markdown",
   "id": "874201b0",
   "metadata": {},
   "source": [
    "### create database/ use db\n",
    "db = conncetion_name[\"database_name]"
   ]
  },
  {
   "cell_type": "code",
   "execution_count": null,
   "id": "5bb83e20",
   "metadata": {},
   "outputs": [],
   "source": [
    "db=client['stud_data']\n",
    "db"
   ]
  },
  {
   "cell_type": "code",
   "execution_count": null,
   "id": "ebadc5b2",
   "metadata": {},
   "outputs": [],
   "source": []
  },
  {
   "cell_type": "markdown",
   "id": "08289358",
   "metadata": {},
   "source": [
    "### create collection\n",
    "coll = database_name[\"collection_name]"
   ]
  },
  {
   "cell_type": "code",
   "execution_count": null,
   "id": "423b036e",
   "metadata": {},
   "outputs": [],
   "source": [
    "coll=db['student']\n",
    "coll"
   ]
  },
  {
   "cell_type": "code",
   "execution_count": null,
   "id": "ce0c376b",
   "metadata": {},
   "outputs": [],
   "source": [
    "# to see the collection"
   ]
  },
  {
   "cell_type": "code",
   "execution_count": null,
   "id": "3a2080fe",
   "metadata": {},
   "outputs": [],
   "source": [
    "db.list_collection_names()"
   ]
  },
  {
   "cell_type": "markdown",
   "id": "82081a2f",
   "metadata": {},
   "source": [
    "### insert document"
   ]
  },
  {
   "cell_type": "code",
   "execution_count": null,
   "id": "1e5d2293",
   "metadata": {},
   "outputs": [],
   "source": [
    "insert_one (): used to insert single document\n",
    "insert_many(): used to insert multiple documents"
   ]
  },
  {
   "cell_type": "markdown",
   "id": "a21ff70d",
   "metadata": {},
   "source": [
    "### insert_one()\n"
   ]
  },
  {
   "cell_type": "code",
   "execution_count": null,
   "id": "d1737a46",
   "metadata": {},
   "outputs": [],
   "source": [
    "collection_name.insert_one({key:value})"
   ]
  },
  {
   "cell_type": "code",
   "execution_count": null,
   "id": "29196859",
   "metadata": {},
   "outputs": [],
   "source": [
    "coll.insert_one({'rollno':101,'stud_name':'rahul','cgpa':9,'loc':'pune'})"
   ]
  },
  {
   "cell_type": "code",
   "execution_count": null,
   "id": "69599488",
   "metadata": {},
   "outputs": [],
   "source": [
    "db.list_collection_names()"
   ]
  },
  {
   "cell_type": "code",
   "execution_count": null,
   "id": "5b47a7b4",
   "metadata": {},
   "outputs": [],
   "source": []
  },
  {
   "cell_type": "code",
   "execution_count": null,
   "id": "039b4439",
   "metadata": {},
   "outputs": [],
   "source": [
    "coll.insert_one({'rollno':102,'stud_name':'rohit','cgpa':8,'loc':'pune','contact':8983720070})"
   ]
  },
  {
   "cell_type": "code",
   "execution_count": null,
   "id": "347c8d7c",
   "metadata": {},
   "outputs": [],
   "source": [
    "coll.insert_one({'rollno':103,'stud_name':'rohit','cgpa':8,\n",
    "                 'loc':'pune','contact':{'mobno':8983720070,'email':'rohit@gmail.com'}})"
   ]
  },
  {
   "cell_type": "markdown",
   "id": "2cee3ef2",
   "metadata": {},
   "source": [
    "### insert_many()"
   ]
  },
  {
   "cell_type": "code",
   "execution_count": null,
   "id": "f468bc19",
   "metadata": {},
   "outputs": [],
   "source": [
    "collection_name.insert_many([{},{}])"
   ]
  },
  {
   "cell_type": "code",
   "execution_count": null,
   "id": "df5d7acf",
   "metadata": {},
   "outputs": [],
   "source": [
    "coll.insert_many([{'rollno':104,'stud_name':'snehal'},\n",
    "                {'rollno':105 ,'stud_name':'neha','loc':'pune'}])"
   ]
  },
  {
   "cell_type": "markdown",
   "id": "cf14f06f",
   "metadata": {},
   "source": [
    "### read data"
   ]
  },
  {
   "cell_type": "code",
   "execution_count": null,
   "id": "9b5c91a4",
   "metadata": {},
   "outputs": [],
   "source": [
    "find_one(): used to read single document\n",
    "find():     used to read multiple documents"
   ]
  },
  {
   "cell_type": "markdown",
   "id": "3228610d",
   "metadata": {},
   "source": [
    "### 1. find_one()"
   ]
  },
  {
   "cell_type": "code",
   "execution_count": null,
   "id": "522cd0e6",
   "metadata": {},
   "outputs": [],
   "source": [
    "collection_name.find_one({where condition},{select})\n",
    "without filter condition: returns the first document of the collection\n",
    "with filter condition:    return the first matched document"
   ]
  },
  {
   "cell_type": "code",
   "execution_count": null,
   "id": "76c03b5c",
   "metadata": {},
   "outputs": [],
   "source": [
    "coll.find_one({})"
   ]
  },
  {
   "cell_type": "code",
   "execution_count": null,
   "id": "099f3d1b",
   "metadata": {},
   "outputs": [],
   "source": [
    "coll.find_one({'stud_name':'rohit'})"
   ]
  },
  {
   "cell_type": "code",
   "execution_count": null,
   "id": "7e2a0745",
   "metadata": {},
   "outputs": [],
   "source": [
    "coll.find_one({'cgpa':8})"
   ]
  },
  {
   "cell_type": "code",
   "execution_count": null,
   "id": "205dd673",
   "metadata": {},
   "outputs": [],
   "source": [
    "coll.find_one({'stud_name':'rohit'},{'_id':0})"
   ]
  },
  {
   "cell_type": "code",
   "execution_count": null,
   "id": "ba049c3a",
   "metadata": {},
   "outputs": [],
   "source": [
    "coll.find_one({'stud_name':'rohit'},{'_id':0,'contact':0})"
   ]
  },
  {
   "cell_type": "code",
   "execution_count": null,
   "id": "aa5bb099",
   "metadata": {},
   "outputs": [],
   "source": [
    "coll.find_one({'stud_name':'rohit'},{'contact':1})"
   ]
  },
  {
   "cell_type": "code",
   "execution_count": null,
   "id": "87374611",
   "metadata": {},
   "outputs": [],
   "source": [
    "coll.find_one({'rollno':101,'cgpa':9})"
   ]
  },
  {
   "cell_type": "code",
   "execution_count": null,
   "id": "1ce5906b",
   "metadata": {},
   "outputs": [],
   "source": [
    "coll.find_one({'$or':[{'rollno':101,'cgpa':9}]})"
   ]
  },
  {
   "cell_type": "code",
   "execution_count": null,
   "id": "0213e08b",
   "metadata": {},
   "outputs": [],
   "source": [
    "coll.find_one({'stud_name':'rohit'},{'_id':0,'contact':0})"
   ]
  },
  {
   "cell_type": "code",
   "execution_count": null,
   "id": "609ddfbf",
   "metadata": {},
   "outputs": [],
   "source": [
    "coll.find_one({'stud_name':'rohit'},{'_id':0,'contact':1})"
   ]
  },
  {
   "cell_type": "code",
   "execution_count": null,
   "id": "eb268f24",
   "metadata": {},
   "outputs": [],
   "source": [
    "coll.find_one({'stud_name':'rohit'},{'roll_no':0,'contact':1})"
   ]
  },
  {
   "cell_type": "code",
   "execution_count": null,
   "id": "09a8be17",
   "metadata": {},
   "outputs": [],
   "source": [
    "coll.find_one({'stud_name':'rohit'},{'roll_no':1,'contact':1})"
   ]
  },
  {
   "cell_type": "code",
   "execution_count": null,
   "id": "8c2b8d5d",
   "metadata": {},
   "outputs": [],
   "source": [
    "20 keys : read 4 keys : specify 1 for these 4 keys\n",
    "20 keys : skip 4 keys : specify 0 for these 4 keys"
   ]
  },
  {
   "cell_type": "markdown",
   "id": "2944c71f",
   "metadata": {},
   "source": [
    "### find()"
   ]
  },
  {
   "cell_type": "markdown",
   "id": "2e80a309",
   "metadata": {},
   "source": [
    "used to return multiple documents"
   ]
  },
  {
   "cell_type": "code",
   "execution_count": null,
   "id": "58048406",
   "metadata": {},
   "outputs": [],
   "source": [
    "collection_name.find({where condition},{select})\n",
    "without filter condition: returns all documents of the collection\n",
    "with filter condition   : returns the all matched documents"
   ]
  },
  {
   "cell_type": "code",
   "execution_count": null,
   "id": "1e4e3452",
   "metadata": {},
   "outputs": [],
   "source": [
    "data=coll.find({},{'_id':0})\n",
    "list(data)"
   ]
  },
  {
   "cell_type": "code",
   "execution_count": null,
   "id": "69d32758",
   "metadata": {},
   "outputs": [],
   "source": [
    "data=coll.find({'stud_name':'rohit'},{'_id':0})\n",
    "list(data)"
   ]
  },
  {
   "cell_type": "markdown",
   "id": "b54e2af5",
   "metadata": {},
   "source": [
    "### update data"
   ]
  },
  {
   "cell_type": "code",
   "execution_count": null,
   "id": "8da49329",
   "metadata": {},
   "outputs": [],
   "source": [
    "update_one() : update a single document \n",
    "update_many(): update multiple documents"
   ]
  },
  {
   "cell_type": "markdown",
   "id": "b968b3d3",
   "metadata": {},
   "source": [
    "### update_one()"
   ]
  },
  {
   "cell_type": "code",
   "execution_count": null,
   "id": "cc3c5c21",
   "metadata": {},
   "outputs": [],
   "source": [
    "collection_name.update_one({filter condition},{'$set':{key:value}})\n",
    "without filter condition: update the first document of the collection\n",
    "with filter condition:    update the first matched document"
   ]
  },
  {
   "cell_type": "code",
   "execution_count": null,
   "id": "66f44457",
   "metadata": {},
   "outputs": [],
   "source": [
    "coll.update_one({},{'$set':{'loc':'mumbai'}})"
   ]
  },
  {
   "cell_type": "code",
   "execution_count": null,
   "id": "066b07c0",
   "metadata": {},
   "outputs": [],
   "source": [
    "coll.update_one({},{'$set':{'contact':9028299590}})"
   ]
  },
  {
   "cell_type": "code",
   "execution_count": null,
   "id": "381061c1",
   "metadata": {},
   "outputs": [],
   "source": [
    "coll.update_one({'stud_name':'rohit'},{'$set':{'cgpa':7}})"
   ]
  },
  {
   "cell_type": "markdown",
   "id": "1b5ceec9",
   "metadata": {},
   "source": [
    "### update_many()"
   ]
  },
  {
   "cell_type": "code",
   "execution_count": null,
   "id": "698dcb5d",
   "metadata": {},
   "outputs": [],
   "source": [
    "collection_name.update_many({filter condition},{'$set':{'key':'value'}})\n",
    "without filter condition: update all documents of the collection\n",
    "with filter condition   : update the all matched documents"
   ]
  },
  {
   "cell_type": "code",
   "execution_count": null,
   "id": "40f053b8",
   "metadata": {},
   "outputs": [],
   "source": [
    "coll.update_many({},{'$set':{'branch':'comp'}})"
   ]
  },
  {
   "cell_type": "code",
   "execution_count": null,
   "id": "3fa46fed",
   "metadata": {},
   "outputs": [],
   "source": [
    "coll.update_many({'stud_name':'rohit'},{'$set':{'loc':'chennai'}})"
   ]
  },
  {
   "cell_type": "markdown",
   "id": "92ec28f4",
   "metadata": {},
   "source": [
    "### delete data"
   ]
  },
  {
   "cell_type": "code",
   "execution_count": null,
   "id": "e5ccc50d",
   "metadata": {},
   "outputs": [],
   "source": [
    "delete_one(): delete the single document\n",
    "delete_many(): delete multiple documents"
   ]
  },
  {
   "cell_type": "markdown",
   "id": "4459ec6f",
   "metadata": {},
   "source": [
    "### 1. delete_one()"
   ]
  },
  {
   "cell_type": "code",
   "execution_count": null,
   "id": "b12789a4",
   "metadata": {},
   "outputs": [],
   "source": [
    "collection_name.delete_one({filter condition})\n",
    "without filter condition: delete the first document of the collection\n",
    "with filter condition:    delete the first matched document"
   ]
  },
  {
   "cell_type": "code",
   "execution_count": null,
   "id": "cf266f34",
   "metadata": {},
   "outputs": [],
   "source": [
    "coll.delete_one({})"
   ]
  },
  {
   "cell_type": "code",
   "execution_count": null,
   "id": "385e1907",
   "metadata": {},
   "outputs": [],
   "source": [
    "coll.delete_one({'loc':'pune'})"
   ]
  },
  {
   "cell_type": "markdown",
   "id": "a63964fb",
   "metadata": {},
   "source": [
    "### 2. delete_many()"
   ]
  },
  {
   "cell_type": "code",
   "execution_count": null,
   "id": "e7068728",
   "metadata": {},
   "outputs": [],
   "source": [
    "coll.delete_many({filter condition})\n",
    "without filter condition: delete all documents of the collection\n",
    "with filter condition   : delete the all matched documents"
   ]
  },
  {
   "cell_type": "code",
   "execution_count": null,
   "id": "db6dd1df",
   "metadata": {},
   "outputs": [],
   "source": [
    "coll.delete_many({'loc':'chennai'})"
   ]
  },
  {
   "cell_type": "code",
   "execution_count": null,
   "id": "d5b154db",
   "metadata": {},
   "outputs": [],
   "source": [
    "coll.delete_many({})"
   ]
  },
  {
   "cell_type": "markdown",
   "id": "75f7dbb8",
   "metadata": {},
   "source": [
    "### delete collection"
   ]
  },
  {
   "cell_type": "code",
   "execution_count": null,
   "id": "32692f45",
   "metadata": {},
   "outputs": [],
   "source": [
    "coll.drop()"
   ]
  },
  {
   "cell_type": "markdown",
   "id": "6399206e",
   "metadata": {},
   "source": [
    "### drop database"
   ]
  },
  {
   "cell_type": "code",
   "execution_count": null,
   "id": "69814f5c",
   "metadata": {},
   "outputs": [],
   "source": [
    "client.drop_database('ML')"
   ]
  },
  {
   "cell_type": "markdown",
   "id": "0c14f30c",
   "metadata": {},
   "source": [
    "### import csv file into mongo collection"
   ]
  },
  {
   "cell_type": "code",
   "execution_count": null,
   "id": "f1bff234",
   "metadata": {},
   "outputs": [],
   "source": [
    "df=pd.read_csv('emp.csv')\n",
    "data=df.to_dict(orient='records')\n",
    "db=client['emp']\n",
    "db.emp_data.insert_many(data)"
   ]
  },
  {
   "cell_type": "markdown",
   "id": "04487f23",
   "metadata": {},
   "source": [
    "### import json file into mongo collection"
   ]
  },
  {
   "cell_type": "code",
   "execution_count": null,
   "id": "e638bf12",
   "metadata": {},
   "outputs": [],
   "source": [
    "import json"
   ]
  },
  {
   "cell_type": "code",
   "execution_count": null,
   "id": "87919c05",
   "metadata": {},
   "outputs": [],
   "source": [
    "f=open('iris.json')\n",
    "data=json.load(f)\n",
    "db.iris.insert_many(data)"
   ]
  },
  {
   "cell_type": "code",
   "execution_count": null,
   "id": "23623599",
   "metadata": {},
   "outputs": [],
   "source": []
  }
 ],
 "metadata": {
  "kernelspec": {
   "display_name": "Python 3 (ipykernel)",
   "language": "python",
   "name": "python3"
  },
  "language_info": {
   "codemirror_mode": {
    "name": "ipython",
    "version": 3
   },
   "file_extension": ".py",
   "mimetype": "text/x-python",
   "name": "python",
   "nbconvert_exporter": "python",
   "pygments_lexer": "ipython3",
   "version": "3.10.9"
  }
 },
 "nbformat": 4,
 "nbformat_minor": 5
}
